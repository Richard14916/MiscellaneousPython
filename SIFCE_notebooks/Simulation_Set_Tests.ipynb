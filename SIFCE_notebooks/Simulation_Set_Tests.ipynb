{
 "cells": [
  {
   "cell_type": "code",
   "execution_count": 1,
   "metadata": {},
   "outputs": [],
   "source": [
    "import os\n",
    "import shutil\n",
    "import logging\n",
    "from tqdm import tqdm\n",
    "import pandas as pd\n",
    "import matplotlib.pyplot as plt\n",
    "%matplotlib inline\n",
    "\n",
    "logging.basicConfig(level=logging.INFO)\n",
    "logger = logging.getLogger(__name__)\n",
    "\n",
    "import numpy as np\n",
    "import bilby\n",
    "\n",
    "import sifce.parser as sparse"
   ]
  },
  {
   "cell_type": "code",
   "execution_count": 2,
   "metadata": {},
   "outputs": [],
   "source": [
    "arguments, parser = sparse.parse(config_file=\"test_config.cfg\")"
   ]
  },
  {
   "cell_type": "code",
   "execution_count": 3,
   "metadata": {},
   "outputs": [],
   "source": [
    "simset = sparse.construct_simulationset_from_parsed_arguments(arguments)\n",
    "simset.distribution['luminosity_distance'] = bilby.core.prior.DeltaFunction(1)"
   ]
  },
  {
   "cell_type": "code",
   "execution_count": 4,
   "metadata": {},
   "outputs": [],
   "source": [
    "n_int = 10000\n",
    "simset.make_clean_simulations_dataframe()\n",
    "simset.sample_distribution(n_int)"
   ]
  },
  {
   "cell_type": "code",
   "execution_count": 5,
   "metadata": {},
   "outputs": [],
   "source": [
    "for key in simset.simulations_dataframe.keys():\n",
    "    if (\"snr\" not in key and key != \"luminosity_distance\") or key == \"reference_snr_index\":\n",
    "        simset.simulations_dataframe[key] = simset.simulations_dataframe[key].astype(\"category\")\n",
    "    else:\n",
    "        simset.simulations_dataframe[key] = simset.simulations_dataframe[key].astype(np.float32)\n",
    "dummy_df = simset.simulations_dataframe.drop(simset.simulations_dataframe.index)"
   ]
  },
  {
   "cell_type": "code",
   "execution_count": 6,
   "metadata": {},
   "outputs": [
    {
     "name": "stderr",
     "output_type": "stream",
     "text": [
      "10000it [04:06, 40.60it/s]\n"
     ]
    }
   ],
   "source": [
    "scatter_dfs = []\n",
    "for idx, row in tqdm(simset.simulations_dataframe.iterrows()):\n",
    "    scatter_dfs += [simset.calc_snrs_sky(row, 5000, average=True, dummy_df=dummy_df)]"
   ]
  },
  {
   "cell_type": "code",
   "execution_count": 7,
   "metadata": {},
   "outputs": [],
   "source": [
    "# for key in scatter_dfs[0].keys():\n",
    "#     category_list = []\n",
    "#     for df in scatter_dfs:\n",
    "#         series = df[key]\n",
    "#         if series.dtype == 'category':\n",
    "#             category_list += [series]\n",
    "#     if category_list != []:\n",
    "#         key_category = pd.api.types.union_categoricals(category_list)\n",
    "#         for df in scatter_dfs:\n",
    "#             df[key] = pd.Categorical(df[key], categories = key_category.categories)"
   ]
  },
  {
   "cell_type": "code",
   "execution_count": 8,
   "metadata": {},
   "outputs": [
    {
     "name": "stdout",
     "output_type": "stream",
     "text": [
      "     mass_1 mass_2   spin_1x   spin_1y   spin_1z   spin_2x   spin_2y  \\\n",
      "0      40.0   40.0 -0.400483  0.495246  0.230451 -0.160854  0.307652   \n",
      "1      40.0   40.0  0.630849 -0.087811  0.165885 -0.034368  0.020622   \n",
      "2      40.0   40.0 -0.320622  0.124728  0.046654 -0.291738  0.243959   \n",
      "3      40.0   40.0 -0.016529  0.283064 -0.005669 -0.347821  0.225340   \n",
      "4      40.0   40.0 -0.218271 -0.440790 -0.095947  0.155326  0.220148   \n",
      "...     ...    ...       ...       ...       ...       ...       ...   \n",
      "9995   40.0   40.0 -0.007520  0.151260  0.031651 -0.015540  0.078699   \n",
      "9996   40.0   40.0  0.372832  0.134106 -0.010933 -0.416596 -0.178943   \n",
      "9997   40.0   40.0 -0.045167 -0.220246  0.175573 -0.447083 -0.525640   \n",
      "9998   40.0   40.0  0.026618  0.058266 -0.004380 -0.206619  0.779992   \n",
      "9999   40.0   40.0 -0.441281 -0.473925 -0.086226  0.304739  0.276564   \n",
      "\n",
      "       spin_2z  theta_jn     phase  ...  cal_idx    opt_snr_H1     mf_snr_H1  \\\n",
      "0     0.642910  0.325499  5.180014  ...      NaN  15284.874593  15284.874593   \n",
      "1    -0.052131  0.667778  2.143985  ...      NaN  12276.847077  12276.847077   \n",
      "2     0.191862  1.950482  1.788908  ...      NaN   7934.066449   7934.066449   \n",
      "3     0.237324  1.064202  0.169087  ...      NaN   8077.393025   8077.393025   \n",
      "4    -0.198469  0.967242  3.076443  ...      NaN  10292.694402  10292.694402   \n",
      "...        ...       ...       ...  ...      ...           ...           ...   \n",
      "9995  0.010156  1.745881  4.991595  ...      NaN   4740.553902   4740.553902   \n",
      "9996  0.131883  2.534542  2.075361  ...      NaN  12743.244611  12743.244611   \n",
      "9997  0.010097  0.629889  2.463015  ...      NaN  14071.021027  14071.021027   \n",
      "9998 -0.488196  0.637284  0.401292  ...      NaN  13003.264718  13003.264718   \n",
      "9999 -0.127807  0.897890  3.656851  ...      NaN  10818.968771  10818.968771   \n",
      "\n",
      "        opt_snr_L1     mf_snr_L1   opt_snr_net    mf_snr_net      iota  \\\n",
      "0     19619.861010  19619.861010  25169.437328  25169.437328  0.491184   \n",
      "1     15785.366113  15785.366113  20229.519923  20229.519923  0.798783   \n",
      "2     10367.113526  10367.113526  13210.259427  13210.259427  1.788017   \n",
      "3     10458.478871  10458.478871  13368.457700  13368.457700  1.167559   \n",
      "4     13015.666322  13015.666322  16787.659779  16787.659779  1.027267   \n",
      "...            ...           ...           ...           ...       ...   \n",
      "9995   6094.197313   6094.197313   7911.725744   7911.725744  1.767952   \n",
      "9996  16214.637344  16214.637344  20852.401082  20852.401082  2.530549   \n",
      "9997  17704.908516  17704.908516  22878.158039  22878.158039  0.666351   \n",
      "9998  16455.947576  16455.947576  21222.353469  21222.353469  0.827643   \n",
      "9999  13775.744355  13775.744355  17718.800913  17718.800913  0.962977   \n",
      "\n",
      "         phi_1     phi_2  \n",
      "0     2.250792  2.052551  \n",
      "1     6.144878  2.601155  \n",
      "2     2.770589  2.445149  \n",
      "3     1.629124  2.566722  \n",
      "4     4.252604  0.956354  \n",
      "...        ...       ...  \n",
      "9995  1.620468  1.765752  \n",
      "9996  0.345285  3.547299  \n",
      "9997  4.510119  4.007576  \n",
      "9998  1.142276  1.829747  \n",
      "9999  3.962643  0.736966  \n",
      "\n",
      "[10000 rows x 43 columns]\n",
      "Index                      128\n",
      "mass_1                   10116\n",
      "mass_2                   10116\n",
      "spin_1x                 364232\n",
      "spin_1y                 364232\n",
      "spin_1z                 364232\n",
      "spin_2x                 364232\n",
      "spin_2y                 364232\n",
      "spin_2z                 364232\n",
      "theta_jn                364232\n",
      "phase                   364232\n",
      "ra                       80000\n",
      "dec                      80000\n",
      "psi                      80000\n",
      "geocent_time            364232\n",
      "luminosity_distance      40000\n",
      "redshift                 10108\n",
      "chirp_mass               10108\n",
      "total_mass               10108\n",
      "mass_ratio               10108\n",
      "symmetric_mass_ratio     10108\n",
      "mass_1_source            10108\n",
      "mass_2_source            10108\n",
      "chirp_mass_source        10108\n",
      "total_mass_source        10108\n",
      "a_1                     364232\n",
      "a_2                     364232\n",
      "tilt_1                  364232\n",
      "tilt_2                  364232\n",
      "phi_12                  364232\n",
      "phi_jl                  364232\n",
      "reference_frequency      10116\n",
      "intrinsic_index         364232\n",
      "reference_snr_index      10108\n",
      "cal_idx                  10108\n",
      "opt_snr_H1               80000\n",
      "mf_snr_H1                80000\n",
      "opt_snr_L1               80000\n",
      "mf_snr_L1                80000\n",
      "opt_snr_net              80000\n",
      "mf_snr_net               80000\n",
      "iota                    364232\n",
      "phi_1                   364232\n",
      "phi_2                   364232\n",
      "dtype: int64\n"
     ]
    }
   ],
   "source": [
    "simset.simulations_dataframe = pd.concat(scatter_dfs, ignore_index=True)\n",
    "print(simset.simulations_dataframe)\n",
    "print(simset.simulations_dataframe.memory_usage(deep=True))"
   ]
  },
  {
   "cell_type": "code",
   "execution_count": null,
   "metadata": {},
   "outputs": [],
   "source": []
  },
  {
   "cell_type": "code",
   "execution_count": 9,
   "metadata": {},
   "outputs": [],
   "source": [
    "# num_samples = np.linspace(50, 5000, 200)\n",
    "\n",
    "# means = np.empty((n_int, num_samples.shape[0]))\n",
    "              \n",
    "# for j in range(n_int):\n",
    "#     for i, num in enumerate(num_samples):\n",
    "#         intrinsic_separated_df = simset.simulations_dataframe.loc[simset.simulations_dataframe['intrinsic_index'] == j]\n",
    "#         opt_snrs_subset = intrinsic_separated_df.head(int(num))['opt_snr_net']\n",
    "#         opt_snr_mean = np.mean(opt_snrs_subset.values)\n",
    "#         means[j, i] = opt_snr_mean\n",
    "\n",
    "# deviations = np.empty((n_int, num_samples.shape[0]))\n",
    "# for j in range(n_int):\n",
    "#     deviations[j, :] = (means[j, :] - means[j, -1]) / means[j, :]"
   ]
  },
  {
   "cell_type": "code",
   "execution_count": 10,
   "metadata": {},
   "outputs": [],
   "source": [
    "# plt.figure(figsize=(16, 8))\n",
    "# for j in range(n_int):\n",
    "#     plt.plot(num_samples, deviations[j], label=f\"Intrinsic Label {j}\")\n",
    "# plt.ylim(-0.1, 0.1)\n",
    "# plt.legend()\n",
    "# plt.title(\"Fractional Deviation of SNR Mean for Subset vs Full Set\")\n",
    "# plt.xlabel(\"Number Samples in Subset\")\n",
    "# plt.ylabel(\"Fractional Deviation\")\n",
    "# plt.show()\n"
   ]
  },
  {
   "cell_type": "code",
   "execution_count": 11,
   "metadata": {},
   "outputs": [
    {
     "name": "stderr",
     "output_type": "stream",
     "text": [
      "0it [00:00, ?it/s]\n"
     ]
    }
   ],
   "source": [
    "\n",
    "\n",
    "distance_scale_dfs = []\n",
    "for idx, row in tqdm(simset.simulations_dataframe.iterrows()):\n",
    "    distance_scale_dfs += [simset.sample_distances(row, dummy_df=dummy_df)]\n",
    "    break"
   ]
  },
  {
   "cell_type": "code",
   "execution_count": null,
   "metadata": {},
   "outputs": [],
   "source": []
  },
  {
   "cell_type": "code",
   "execution_count": 12,
   "metadata": {},
   "outputs": [],
   "source": [
    "simset.simulations_dataframe = pd.concat(distance_scale_dfs, ignore_index=True)"
   ]
  },
  {
   "cell_type": "code",
   "execution_count": 13,
   "metadata": {},
   "outputs": [
    {
     "data": {
      "text/plain": [
       "Index                      128\n",
       "mass_1                    1116\n",
       "mass_2                    1116\n",
       "spin_1x                 346232\n",
       "spin_1y                 346232\n",
       "spin_1z                 346232\n",
       "spin_2x                 346232\n",
       "spin_2y                 346232\n",
       "spin_2z                 346232\n",
       "theta_jn                346232\n",
       "phase                   346232\n",
       "ra                      346232\n",
       "dec                     346232\n",
       "psi                     346232\n",
       "geocent_time            346232\n",
       "luminosity_distance       8000\n",
       "redshift                  1108\n",
       "chirp_mass                1108\n",
       "total_mass                1108\n",
       "mass_ratio                1108\n",
       "symmetric_mass_ratio      1108\n",
       "mass_1_source             1108\n",
       "mass_2_source             1108\n",
       "chirp_mass_source         1108\n",
       "total_mass_source         1108\n",
       "a_1                     346232\n",
       "a_2                     346232\n",
       "tilt_1                  346232\n",
       "tilt_2                  346232\n",
       "phi_12                  346232\n",
       "phi_jl                  346232\n",
       "reference_frequency       1116\n",
       "intrinsic_index         346232\n",
       "reference_snr_index       1108\n",
       "cal_idx                   1108\n",
       "opt_snr_H1                4000\n",
       "mf_snr_H1                 4000\n",
       "opt_snr_L1                4000\n",
       "mf_snr_L1                 4000\n",
       "opt_snr_net               8000\n",
       "mf_snr_net                4000\n",
       "iota                    346232\n",
       "phi_1                   346232\n",
       "phi_2                   346232\n",
       "dtype: int64"
      ]
     },
     "execution_count": 13,
     "metadata": {},
     "output_type": "execute_result"
    }
   ],
   "source": [
    "simset.simulations_dataframe.memory_usage(deep=True)"
   ]
  },
  {
   "cell_type": "code",
   "execution_count": null,
   "metadata": {},
   "outputs": [],
   "source": []
  }
 ],
 "metadata": {
  "kernelspec": {
   "display_name": "SIFCEKernel",
   "language": "python",
   "name": "sifcekernel"
  },
  "language_info": {
   "codemirror_mode": {
    "name": "ipython",
    "version": 3
   },
   "file_extension": ".py",
   "mimetype": "text/x-python",
   "name": "python",
   "nbconvert_exporter": "python",
   "pygments_lexer": "ipython3",
   "version": "3.10.4"
  }
 },
 "nbformat": 4,
 "nbformat_minor": 4
}
