{
 "cells": [
  {
   "cell_type": "code",
   "execution_count": 1,
   "metadata": {},
   "outputs": [],
   "source": [
    "import numpy as np\n",
    "import logging\n",
    "from bilby.core.prior import PriorDict, PowerLaw, Uniform, Sine, Cosine, DeltaFunction\n",
    "from bilby.gw.conversion import generate_component_masses, generate_component_spins\n",
    "import pandas as pd\n",
    "import sys\n",
    "import copy\n",
    "from gwpy.segments import Segment, SegmentList\n",
    "\n",
    "logger = logging.getLogger(__name__)\n",
    "logging.basicConfig(level=logging.INFO)"
   ]
  },
  {
   "cell_type": "code",
   "execution_count": 2,
   "metadata": {},
   "outputs": [],
   "source": [
    "prior_waves=dict(mass_ratio=PowerLaw(alpha=0, name='mass_ratio', minimum=0.125, maximum=1),\n",
    "                mass_1= PowerLaw(alpha=-1, name='mass_1', minimum=10, maximum=80),\n",
    "                a_1 = Uniform(name='a_1', minimum=0, maximum=0.99),\n",
    "                a_2 = Uniform(name='a_2', minimum=0, maximum=0.99),\n",
    "                tilt_1 = Sine(name='tilt_1'),\n",
    "                tilt_2 = Sine(name='tilt_2'),\n",
    "                phi_12 = Uniform(name='phi_12', minimum=0, maximum=2 * np.pi, boundary='periodic'),\n",
    "                phi_jl = Uniform(name='phi_jl', minimum=0, maximum=2 * np.pi, boundary='periodic'),\n",
    "                luminosity_distance = PowerLaw(alpha=2, name='luminosity_distance', minimum=50, maximum=2000, unit='Mpc', latex_label='$d_L$'),\n",
    "                dec =  Cosine(name='dec'),\n",
    "                ra =  Uniform(name='ra', minimum=0, maximum=2 * np.pi, boundary='periodic'),\n",
    "                theta_jn =  Sine(name='theta_jn'),\n",
    "                psi =  Uniform(name='psi', minimum=0, maximum=np.pi, boundary='periodic'),\n",
    "                phase =  Uniform(name='phase', minimum=0, maximum=2 * np.pi, boundary='periodic'),\n",
    "                reference_frequency = DeltaFunction(20),\n",
    "                )\n",
    "PDict = PriorDict(dictionary=prior_waves)"
   ]
  },
  {
   "cell_type": "code",
   "execution_count": 3,
   "metadata": {},
   "outputs": [
    {
     "data": {
      "text/plain": [
       "<SegmentList([Segment(-5, 5)\n",
       "              Segment(7, 15)])>"
      ]
     },
     "execution_count": 3,
     "metadata": {},
     "output_type": "execute_result"
    }
   ],
   "source": [
    "segment1 = Segment((-5,5))\n",
    "segment2 = Segment((7, 13))\n",
    "segment3 = Segment((13,15))\n",
    "\n",
    "test_list = SegmentList([segment1, segment2, segment3])\n",
    "test_list.coalesce()\n",
    "\n"
   ]
  },
  {
   "cell_type": "code",
   "execution_count": 4,
   "metadata": {},
   "outputs": [
    {
     "name": "stdout",
     "output_type": "stream",
     "text": [
      "[-5, 5]\n",
      "[7, 15]\n"
     ]
    }
   ],
   "source": [
    "for segment in test_list:\n",
    "    print(list(segment))"
   ]
  },
  {
   "cell_type": "code",
   "execution_count": 5,
   "metadata": {},
   "outputs": [
    {
     "ename": "SyntaxError",
     "evalue": "invalid syntax (306037347.py, line 2)",
     "output_type": "error",
     "traceback": [
      "\u001b[0;36m  Input \u001b[0;32mIn [5]\u001b[0;36m\u001b[0m\n\u001b[0;31m    temp_list =\u001b[0m\n\u001b[0m                ^\u001b[0m\n\u001b[0;31mSyntaxError\u001b[0m\u001b[0;31m:\u001b[0m invalid syntax\n"
     ]
    }
   ],
   "source": [
    "temp_list = copy.deepcopy(test_list)\n",
    "temp_list = "
   ]
  },
  {
   "cell_type": "code",
   "execution_count": 6,
   "metadata": {},
   "outputs": [
    {
     "name": "stdout",
     "output_type": "stream",
     "text": [
      "   a  b\n",
      "0  1  3\n",
      "1  2  4\n",
      "2  3  5\n",
      "3  4  6\n",
      "4  5  7\n",
      "5  6  8\n",
      "0  1  3\n",
      "1  2  4\n",
      "2  3  5\n",
      "3  4  6\n",
      "4  5  7\n",
      "5  6  8\n",
      "   a  b\n",
      "1  2  4\n",
      "2  3  5\n",
      "3  4  6\n",
      "4  5  7\n",
      "5  6  8\n",
      "1  2  4\n",
      "2  3  5\n",
      "3  4  6\n",
      "4  5  7\n",
      "5  6  8\n"
     ]
    }
   ],
   "source": [
    "test_dataframe = pd.DataFrame.from_dict(dict(a= [1,2,3,4,5,6], b=[3,4,5,6,7,8]))\n",
    "test_dataframe = pd.concat([test_dataframe, test_dataframe])\n",
    "print(test_dataframe)\n",
    "test_dataframe.drop(test_dataframe.iloc[0].name, inplace=True)\n",
    "print(test_dataframe)"
   ]
  },
  {
   "cell_type": "code",
   "execution_count": 7,
   "metadata": {},
   "outputs": [],
   "source": [
    "prior_waves['luminosity_distance'].maximum=1000"
   ]
  },
  {
   "cell_type": "code",
   "execution_count": 8,
   "metadata": {},
   "outputs": [
    {
     "data": {
      "text/plain": [
       "{'mass_ratio': PowerLaw(alpha=0, minimum=0.125, maximum=1, name='mass_ratio', latex_label='$q$', unit=None, boundary=None),\n",
       " 'mass_1': PowerLaw(alpha=-1, minimum=10, maximum=80, name='mass_1', latex_label='$m_1$', unit=None, boundary=None),\n",
       " 'a_1': Uniform(minimum=0, maximum=0.99, name='a_1', latex_label='$a_1$', unit=None, boundary=None),\n",
       " 'a_2': Uniform(minimum=0, maximum=0.99, name='a_2', latex_label='$a_2$', unit=None, boundary=None),\n",
       " 'tilt_1': Sine(minimum=0, maximum=3.141592653589793, name='tilt_1', latex_label='$\\\\theta_1$', unit=None, boundary=None),\n",
       " 'tilt_2': Sine(minimum=0, maximum=3.141592653589793, name='tilt_2', latex_label='$\\\\theta_2$', unit=None, boundary=None),\n",
       " 'phi_12': Uniform(minimum=0, maximum=6.283185307179586, name='phi_12', latex_label='$\\\\Delta\\\\phi$', unit=None, boundary='periodic'),\n",
       " 'phi_jl': Uniform(minimum=0, maximum=6.283185307179586, name='phi_jl', latex_label='$\\\\phi_{JL}$', unit=None, boundary='periodic'),\n",
       " 'luminosity_distance': PowerLaw(alpha=2, minimum=50, maximum=1000, name='luminosity_distance', latex_label='$d_L$', unit='Mpc', boundary=None),\n",
       " 'dec': Cosine(minimum=-1.5707963267948966, maximum=1.5707963267948966, name='dec', latex_label='$\\\\mathrm{DEC}$', unit=None, boundary=None),\n",
       " 'ra': Uniform(minimum=0, maximum=6.283185307179586, name='ra', latex_label='$\\\\mathrm{RA}$', unit=None, boundary='periodic'),\n",
       " 'theta_jn': Sine(minimum=0, maximum=3.141592653589793, name='theta_jn', latex_label='$\\\\theta_{JN}$', unit=None, boundary=None),\n",
       " 'psi': Uniform(minimum=0, maximum=3.141592653589793, name='psi', latex_label='$\\\\psi$', unit=None, boundary='periodic'),\n",
       " 'phase': Uniform(minimum=0, maximum=6.283185307179586, name='phase', latex_label='$\\\\phi$', unit=None, boundary='periodic'),\n",
       " 'reference_frequency': DeltaFunction(peak=20, name=None, latex_label=None, unit=None)}"
      ]
     },
     "execution_count": 8,
     "metadata": {},
     "output_type": "execute_result"
    }
   ],
   "source": [
    "prior_waves"
   ]
  },
  {
   "cell_type": "code",
   "execution_count": null,
   "metadata": {},
   "outputs": [],
   "source": []
  }
 ],
 "metadata": {
  "kernelspec": {
   "display_name": "SIFCEKernel",
   "language": "python",
   "name": "sifcekernel"
  },
  "language_info": {
   "codemirror_mode": {
    "name": "ipython",
    "version": 3
   },
   "file_extension": ".py",
   "mimetype": "text/x-python",
   "name": "python",
   "nbconvert_exporter": "python",
   "pygments_lexer": "ipython3",
   "version": "3.10.4"
  }
 },
 "nbformat": 4,
 "nbformat_minor": 4
}
