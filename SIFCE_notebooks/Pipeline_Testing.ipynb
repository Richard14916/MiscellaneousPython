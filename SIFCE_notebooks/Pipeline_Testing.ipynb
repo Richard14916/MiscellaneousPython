{
 "cells": [
  {
   "cell_type": "code",
   "execution_count": 1,
   "metadata": {},
   "outputs": [],
   "source": [
    "import os\n",
    "import shutil\n",
    "import logging\n",
    "from tqdm import tqdm\n",
    "import copy\n",
    "import pandas as pd\n",
    "import matplotlib.pyplot as plt\n",
    "%matplotlib inline\n",
    "\n",
    "logging.basicConfig(level=logging.CRITICAL)\n",
    "logger = logging.getLogger(__name__)\n",
    "\n",
    "import numpy as np\n",
    "import bilby\n",
    "\n",
    "import sifce.parser as sparse\n",
    "import sifce.tv as tv"
   ]
  },
  {
   "cell_type": "code",
   "execution_count": null,
   "metadata": {},
   "outputs": [],
   "source": []
  },
  {
   "cell_type": "code",
   "execution_count": 2,
   "metadata": {},
   "outputs": [],
   "source": [
    "arguments, parser = sparse.parse(config_file=\"test_config.cfg\")"
   ]
  },
  {
   "cell_type": "code",
   "execution_count": 3,
   "metadata": {},
   "outputs": [],
   "source": [
    "simset = sparse.construct_simulationset_from_parsed_arguments(arguments)"
   ]
  },
  {
   "cell_type": "code",
   "execution_count": 4,
   "metadata": {},
   "outputs": [],
   "source": [
    "# n_int = 10002\n",
    "# vts_gauss = []\n",
    "# vts_step = []\n",
    "# simset.make_clean_simulations_dataframe()\n",
    "# simset.sample_distribution(n_int)\n",
    "# simset.fill_out_snr(N_sky=5000, N_scale=1000, benchmark=False)\n",
    "# temp_simset_gauss = copy.deepcopy(simset)\n",
    "# Timevol_gauss = tv.TimeVolume(simulation=temp_simset_gauss, function_detection=tv.get_fake_gaussian_noise_snr_thresh())\n",
    "# vt_gauss = Timevol_gauss.sensitive_volume_calc()\n",
    "# temp_simset_step = copy.deepcopy(simset)\n",
    "# Timevol_step = tv.TimeVolume(simulation=temp_simset_step, function_detection=tv.get_step_function())\n",
    "# vt_step = Timevol_step.sensitive_volume_calc()"
   ]
  },
  {
   "cell_type": "code",
   "execution_count": 5,
   "metadata": {},
   "outputs": [],
   "source": [
    "#simset.write_dataframe_and_distribution(output_dir=\"/home/rudall/Projects/SIFCE/JupyterTests/Bootstrap_Superset\")\n",
    "simset.simulations_dataframe = simset.read_simset_dataframe(\"/home/rudall/Projects/SIFCE/JupyterTests/Bootstrap_Superset/simset_df.gzip\")"
   ]
  },
  {
   "cell_type": "code",
   "execution_count": 6,
   "metadata": {},
   "outputs": [
    {
     "name": "stdout",
     "output_type": "stream",
     "text": [
      "         mass_1 mass_2   spin_1x   spin_1y   spin_1z   spin_2x   spin_2y  \\\n",
      "0          40.0   40.0  0.314387  0.739270  0.010781 -0.100622  0.083571   \n",
      "1          40.0   40.0  0.314387  0.739270  0.010781 -0.100622  0.083571   \n",
      "2          40.0   40.0  0.314387  0.739270  0.010781 -0.100622  0.083571   \n",
      "3          40.0   40.0  0.314387  0.739270  0.010781 -0.100622  0.083571   \n",
      "4          40.0   40.0  0.314387  0.739270  0.010781 -0.100622  0.083571   \n",
      "...         ...    ...       ...       ...       ...       ...       ...   \n",
      "10001995   40.0   40.0  0.170201  0.227486  0.028400 -0.324043 -0.627237   \n",
      "10001996   40.0   40.0  0.170201  0.227486  0.028400 -0.324043 -0.627237   \n",
      "10001997   40.0   40.0  0.170201  0.227486  0.028400 -0.324043 -0.627237   \n",
      "10001998   40.0   40.0  0.170201  0.227486  0.028400 -0.324043 -0.627237   \n",
      "10001999   40.0   40.0  0.170201  0.227486  0.028400 -0.324043 -0.627237   \n",
      "\n",
      "           spin_2z  theta_jn     phase  ... cal_idx    opt_snr_H1  \\\n",
      "0         0.285634  2.751137  5.250090  ...     NaN  14080.943359   \n",
      "1         0.285634  2.751137  5.250090  ...     NaN  14080.943359   \n",
      "2         0.285634  2.751137  5.250090  ...     NaN  14080.943359   \n",
      "3         0.285634  2.751137  5.250090  ...     NaN  14080.943359   \n",
      "4         0.285634  2.751137  5.250090  ...     NaN  14080.943359   \n",
      "...            ...       ...       ...  ...     ...           ...   \n",
      "10001995 -0.417360  0.408746  1.716428  ...     NaN  13932.292969   \n",
      "10001996 -0.417360  0.408746  1.716428  ...     NaN  13932.292969   \n",
      "10001997 -0.417360  0.408746  1.716428  ...     NaN  13932.292969   \n",
      "10001998 -0.417360  0.408746  1.716428  ...     NaN  13932.292969   \n",
      "10001999 -0.417360  0.408746  1.716428  ...     NaN  13932.292969   \n",
      "\n",
      "             mf_snr_H1    opt_snr_L1     mf_snr_L1 opt_snr_net    mf_snr_net  \\\n",
      "0         14080.943359  17799.466797  17799.466797   22.855719  22953.085938   \n",
      "1         14080.943359  17799.466797  17799.466797   12.386434  22953.085938   \n",
      "2         14080.943359  17799.466797  17799.466797   12.126737  22953.085938   \n",
      "3         14080.943359  17799.466797  17799.466797   13.383200  22953.085938   \n",
      "4         14080.943359  17799.466797  17799.466797   21.983919  22953.085938   \n",
      "...                ...           ...           ...         ...           ...   \n",
      "10001995  13932.292969  17538.988281  17538.988281   28.653440  22655.767578   \n",
      "10001996  13932.292969  17538.988281  17538.988281   11.558838  22655.767578   \n",
      "10001997  13932.292969  17538.988281  17538.988281   30.341002  22655.767578   \n",
      "10001998  13932.292969  17538.988281  17538.988281   16.147648  22655.767578   \n",
      "10001999  13932.292969  17538.988281  17538.988281   35.693096  22655.767578   \n",
      "\n",
      "              iota     phi_1     phi_2  \n",
      "0         2.856725  1.168699  2.448504  \n",
      "1         2.856725  1.168699  2.448504  \n",
      "2         2.856725  1.168699  2.448504  \n",
      "3         2.856725  1.168699  2.448504  \n",
      "4         2.856725  1.168699  2.448504  \n",
      "...            ...       ...       ...  \n",
      "10001995  0.364982  0.928462  4.235534  \n",
      "10001996  0.364982  0.928462  4.235534  \n",
      "10001997  0.364982  0.928462  4.235534  \n",
      "10001998  0.364982  0.928462  4.235534  \n",
      "10001999  0.364982  0.928462  4.235534  \n",
      "\n",
      "[10002000 rows x 43 columns]\n",
      "Index                        128\n",
      "mass_1                  10002116\n",
      "mass_2                  10002116\n",
      "spin_1x                 20348248\n",
      "spin_1y                 20348248\n",
      "spin_1z                 20348248\n",
      "spin_2x                 20348248\n",
      "spin_2y                 20348248\n",
      "spin_2z                 20348248\n",
      "theta_jn                20348248\n",
      "phase                   20348248\n",
      "ra                      10002108\n",
      "dec                     10002108\n",
      "psi                     10002108\n",
      "geocent_time            20348248\n",
      "luminosity_distance     40008000\n",
      "redshift                10002108\n",
      "chirp_mass              10002108\n",
      "total_mass              10002108\n",
      "mass_ratio              10002108\n",
      "symmetric_mass_ratio    10002108\n",
      "mass_1_source           10002108\n",
      "mass_2_source           10002108\n",
      "chirp_mass_source       10002108\n",
      "total_mass_source       10002108\n",
      "a_1                     20348248\n",
      "a_2                     20348248\n",
      "tilt_1                  20348248\n",
      "tilt_2                  20348248\n",
      "phi_12                  20348248\n",
      "phi_jl                  20348248\n",
      "reference_frequency     10002116\n",
      "intrinsic_index         20348248\n",
      "reference_snr_index     10002108\n",
      "cal_idx                 10002108\n",
      "opt_snr_H1              40008000\n",
      "mf_snr_H1               40008000\n",
      "opt_snr_L1              40008000\n",
      "mf_snr_L1               40008000\n",
      "opt_snr_net             40008000\n",
      "mf_snr_net              40008000\n",
      "iota                    20348248\n",
      "phi_1                   20348248\n",
      "phi_2                   20348248\n",
      "dtype: int64\n"
     ]
    }
   ],
   "source": [
    "print(simset.simulations_dataframe)\n",
    "print(simset.simulations_dataframe.memory_usage(deep=True))"
   ]
  },
  {
   "cell_type": "code",
   "execution_count": null,
   "metadata": {},
   "outputs": [],
   "source": []
  },
  {
   "cell_type": "code",
   "execution_count": 7,
   "metadata": {},
   "outputs": [],
   "source": [
    "# intrinsic_indices = np.arange(10002)\n",
    "# subset_n_ints = [100, 200, 300, 400, 500, 1000, 1500, 2000, 3000, 4000, 5000, 6000, 7000, 8000, 9000, 10000]\n",
    "# vts_array = np.zeros((len(subset_n_ints), 1000))\n",
    "# for ii,subset_size in enumerate(subset_n_ints):\n",
    "#     for jj in tqdm(range(1000)):\n",
    "#         subset_intrinsic_indices = np.random.choice(intrinsic_indices, size=subset_size)\n",
    "#         temp_simset = copy.deepcopy(simset)\n",
    "#         unique, repeats = np.unique(subset_intrinsic_indices, return_counts=True)\n",
    "#         sub_dfs_list = []\n",
    "#         for kk, value in enumerate(unique):\n",
    "#             sub_df = temp_simset.simulations_dataframe.loc[temp_simset.simulations_dataframe[\"intrinsic_index\"] == value]\n",
    "#             sub_dfs_list += repeats[kk] * [sub_df]\n",
    "#         temp_simset.simulations_dataframe = pd.concat(sub_dfs_list, ignore_index=True)\n",
    "#         timevol = tv.TimeVolume(simulation=temp_simset, function_detection=tv.get_fake_gaussian_noise_snr_thresh())\n",
    "#         vt_gauss = timevol.sensitive_volume_calc()\n",
    "#         vts_array[ii, jj] = vt_gauss.value"
   ]
  },
  {
   "cell_type": "code",
   "execution_count": 16,
   "metadata": {},
   "outputs": [
    {
     "name": "stderr",
     "output_type": "stream",
     "text": [
      "100%|███████████████████████████████████████████████████████████████████████████████████████████████████████████████████████████████████████████████████████| 999/999 [01:34<00:00, 10.54it/s]\n",
      "100%|███████████████████████████████████████████████████████████████████████████████████████████████████████████████████████████████████████████████████████| 999/999 [03:41<00:00,  4.51it/s]\n",
      "100%|███████████████████████████████████████████████████████████████████████████████████████████████████████████████████████████████████████████████████████| 999/999 [05:14<00:00,  3.18it/s]\n",
      "100%|███████████████████████████████████████████████████████████████████████████████████████████████████████████████████████████████████████████████████████| 999/999 [20:01<00:00,  1.20s/it]\n",
      "100%|███████████████████████████████████████████████████████████████████████████████████████████████████████████████████████████████████████████████████████| 999/999 [34:40<00:00,  2.08s/it]\n"
     ]
    }
   ],
   "source": [
    "# simset_cp = copy.deepcopy(simset)\n",
    "\n",
    "# N_list = [100, 500, 1000, 5000, 10000]\n",
    "# all_intrinsic_ind = np.arange(10000)\n",
    "\n",
    "# M = 1000 \n",
    "\n",
    "# bootstrapped_tvs_array = np.empty((len(N_list), M))\n",
    "\n",
    "# for ii, N in enumerate(N_list):\n",
    "#     for jj in tqdm(range(M-1)):\n",
    "#         tmp_intrinsic_idx = np.random.choice(all_intrinsic_ind, N)\n",
    "        \n",
    "#         # get lists with idxs:\n",
    "#         ind_array, counts = np.unique(tmp_intrinsic_idx, return_counts=True)\n",
    "#         list_of_lists_of_idx = list()\n",
    "#         for kk in range(max(counts)):\n",
    "#             list_of_lists_of_idx.append(ind_array[counts >= (kk+1)])\n",
    "        \n",
    "#         # get the dfs\n",
    "#         list_of_dfs = list()\n",
    "#         for lst in list_of_lists_of_idx:\n",
    "#             list_of_dfs.append(simset.simulations_dataframe.loc[simset.simulations_dataframe['intrinsic_index'].isin(lst)])\n",
    "    \n",
    "#         simset_cp.simulations_dataframe = pd.concat(list_of_dfs, ignore_index=True)\n",
    "\n",
    "#         Timevol_obj = tv.TimeVolume(simulation=simset_cp, function_detection=tv.get_step_function())\n",
    "#         bootstrapped_tvs_array[ii, jj] = Timevol_obj.sensitive_volume_calc().value\n"
   ]
  },
  {
   "cell_type": "code",
   "execution_count": 18,
   "metadata": {},
   "outputs": [],
   "source": [
    "np.savetxt(\"/home/rudall/Projects/SIFCE/JupyterTests/VT_bootstraps_array.csv\", bootstrapped_tvs_array, delimiter=\",\")"
   ]
  },
  {
   "cell_type": "code",
   "execution_count": 8,
   "metadata": {},
   "outputs": [],
   "source": [
    "bootstrapped_cvs = np.loadtxt(\"/home/rudall/Projects/SIFCE/JupyterTests/VT_bootstraps_array.csv\", delimiter=\",\")"
   ]
  },
  {
   "cell_type": "code",
   "execution_count": 9,
   "metadata": {},
   "outputs": [],
   "source": [
    "N_list = [100, 500, 1000, 5000, 10000]"
   ]
  },
  {
   "cell_type": "code",
   "execution_count": 16,
   "metadata": {},
   "outputs": [
    {
     "name": "stdout",
     "output_type": "stream",
     "text": [
      "For n_int 100 Variance is 0.050505286223580456 and sigma is 0.22473381192775702\n",
      "For n_int 500 Variance is 0.013445326000176493 and sigma is 0.11595398225234221\n",
      "For n_int 1000 Variance is 0.008038379745567181 and sigma is 0.08965701169215479\n",
      "For n_int 5000 Variance is 0.004416241959316864 and sigma is 0.06645481140833118\n",
      "For n_int 10000 Variance is 0.004002350277800477 and sigma is 0.0632641310522833\n"
     ]
    }
   ],
   "source": [
    "for i, n in enumerate(N_list):\n",
    "    var = np.var(bootstrapped_cvs[i, :])\n",
    "    sigma = np.sqrt(var)\n",
    "    print(f\"For n_int {n} Variance is {var} and sigma is {sigma}\")"
   ]
  },
  {
   "cell_type": "code",
   "execution_count": null,
   "metadata": {},
   "outputs": [],
   "source": []
  }
 ],
 "metadata": {
  "kernelspec": {
   "display_name": "SIFCEKernel",
   "language": "python",
   "name": "sifcekernel"
  },
  "language_info": {
   "codemirror_mode": {
    "name": "ipython",
    "version": 3
   },
   "file_extension": ".py",
   "mimetype": "text/x-python",
   "name": "python",
   "nbconvert_exporter": "python",
   "pygments_lexer": "ipython3",
   "version": "3.10.4"
  }
 },
 "nbformat": 4,
 "nbformat_minor": 4
}
